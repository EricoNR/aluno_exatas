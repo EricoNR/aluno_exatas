{
 "cells": [
  {
   "cell_type": "markdown",
   "metadata": {},
   "source": [
    "# Tutorial para o módulo aluno_exatas\n",
    "\n",
    "## *fis\\_exp*\n",
    "\n",
    "Esse módulo tem como objetivo auxiliar o aluno que está cursando física experimental. Além de automatizar a propagação, permite gerar funções que facilitam a manipulação dos dados medidos.\n",
    "\n",
    "#### Importando módulos úteis:"
   ]
  },
  {
   "cell_type": "code",
   "execution_count": 1,
   "metadata": {
    "collapsed": true
   },
   "outputs": [],
   "source": [
    "import aluno_exatas.fis_exp as fe\n",
    "import numpy as np"
   ]
  },
  {
   "cell_type": "markdown",
   "metadata": {},
   "source": [
    "#### Inicializando o módulo\n",
    "\n",
    "A variável `f` irá conter um objeto `FisExp` cuja função principal é `a+b*c`. Nesse objeto, pode ser achada a propagação de incertezas da função principal."
   ]
  },
  {
   "cell_type": "code",
   "execution_count": 2,
   "metadata": {},
   "outputs": [
    {
     "name": "stdout",
     "output_type": "stream",
     "text": [
      "Função principal:  a**2 + b*c\n",
      "Variáveis da função principal:  {a, b, c} \n",
      "\n",
      "Propagação de incertezas da função principal:  sqrt(4*a**2*u_a**2 + b**2*u_c**2 + c**2*u_b**2)\n",
      "Incertezas da propagação de incertezas:  [u_a, u_b, u_c]\n"
     ]
    }
   ],
   "source": [
    "f = fe.FisExp('a**2+b*c')\n",
    "\n",
    "print ('Função principal: ', f.funcao)\n",
    "print ('Variáveis da função principal: ', f.variaveis, '\\n')\n",
    "print ('Propagação de incertezas da função principal: ', f.propagacao)\n",
    "print ('Incertezas da propagação de incertezas: ', list(f.incertezas.values()))"
   ]
  },
  {
   "cell_type": "markdown",
   "metadata": {},
   "source": [
    "#### Definindo valores conhecidos\n",
    "\n",
    "Nesse caso, os valores de `a` e `b` são constantes, assim como as incertezas de `a` e `c`. Os valores desconhecidos são `c` e a incerteza de `b`."
   ]
  },
  {
   "cell_type": "code",
   "execution_count": 3,
   "metadata": {},
   "outputs": [
    {
     "name": "stdout",
     "output_type": "stream",
     "text": [
      "Função com valores constantes substituídos:  2*c + 16\n",
      "Propagação com valores constantes substituídos:  sqrt(c**2*u_b**2 + 80)\n"
     ]
    }
   ],
   "source": [
    "f.valores_conhecidos = {'a':4, 'b':2}\n",
    "f.incertezas_conhecidas = {'a':1, 'c':2}\n",
    "\n",
    "print ('Função com valores constantes substituídos: ', f.funcao_substituida)\n",
    "print ('Propagação com valores constantes substituídos: ', f.propagacao_substituida)"
   ]
  },
  {
   "cell_type": "markdown",
   "metadata": {},
   "source": [
    "#### Criação de funções\n",
    "\n",
    "Agora são criadas funções para calcular o valor da função principal e da propagação em diferentes valores de `c` e `u_b`."
   ]
  },
  {
   "cell_type": "code",
   "execution_count": 4,
   "metadata": {},
   "outputs": [
    {
     "name": "stdout",
     "output_type": "stream",
     "text": [
      "Função principal avaliada em c=5: 26\n",
      "Propagação avaliada em c=5, u_b=1 10.246950766\n"
     ]
    }
   ],
   "source": [
    "f.gerar_funcao(['c'])\n",
    "f.gerar_propagacao(['c','u_b'])\n",
    "\n",
    "print ('Função principal avaliada em c=5:', f.funcao_gerada(5))\n",
    "print ('Propagação avaliada em c=5, u_b=1', f.propagacao_gerada(5,1))"
   ]
  },
  {
   "cell_type": "markdown",
   "metadata": {},
   "source": [
    "Essas funções também podem ser utilizadas com valores armazenados em `numpy.arrays`, o que permite que sejam avaliadas em vários pontos. Quando os parâmetros das funções são vários `numpy.arrays`, a função é avaliada de forma sequencial, seguindo a sequência de cada array (portanto, os vetores precisam ter o mesmo tamanho)."
   ]
  },
  {
   "cell_type": "code",
   "execution_count": 5,
   "metadata": {},
   "outputs": [
    {
     "name": "stdout",
     "output_type": "stream",
     "text": [
      "Função principal avaliada em diferentes valores de c:  [  16.   41.   66.   91.  116.]\n",
      "Propagação avaliada em diferentes valores de c e u_b:  [  8.94427191  15.37042615  50.7937004   75.5314504   50.7937004 ]\n"
     ]
    }
   ],
   "source": [
    "c = np.linspace(0,50,5)\n",
    "u_b = np.array([1,1,2,2,1])\n",
    "\n",
    "print ('Função principal avaliada em diferentes valores de c: ', f.funcao_gerada(c))\n",
    "print ('Propagação avaliada em diferentes valores de c e u_b: ', f.propagacao_gerada(c, u_b))"
   ]
  },
  {
   "cell_type": "markdown",
   "metadata": {},
   "source": [
    "#### Funcionalidades extra\n",
    "\n",
    "Se, por alguma razão, o usuário desejar integrar ou derivar a função principal, há funções que permitem isso."
   ]
  },
  {
   "cell_type": "code",
   "execution_count": 7,
   "metadata": {},
   "outputs": [
    {
     "name": "stdout",
     "output_type": "stream",
     "text": [
      "Função derivada em relação a \"a\":  2*a\n",
      "Função derivada em relação a \"a\", avaliada em a=1, derivada de índice 2:  2\n",
      "Função derivada em relação a \"a\", com valores conhecidos substituídos:  8 \n",
      "\n",
      "Integral da função em relação a \"a\":  a**3/3 + a*b*c\n",
      "Integral da função em relação a \"a\", avaliada entre [0,5]:  5*b*c + 125/3\n",
      "Integral da função em relação a \"c\", avaliada entre [0,5], com valores conhecidos substituídos:  105\n"
     ]
    }
   ],
   "source": [
    "print ('Função derivada em relação a \"a\": ', f.derivar('a'))\n",
    "print ('Função derivada em relação a \"a\", avaliada em a=1, derivada de índice 2: ', f.derivar('a', ponto_avaliado=1, indice=2))\n",
    "print ('Função derivada em relação a \"a\", com valores conhecidos substituídos: ', f.derivar('a', substituir=True), '\\n')\n",
    "\n",
    "print ('Integral da função em relação a \"a\": ', f.integrar('a'))\n",
    "print ('Integral da função em relação a \"a\", avaliada entre [0,5]: ', f.integrar('a', limites=[0,5]))\n",
    "print ('Integral da função em relação a \"c\", avaliada entre [0,5], com valores conhecidos substituídos: ', f.integrar('c', limites=[0,5], substituir=True))"
   ]
  },
  {
   "cell_type": "code",
   "execution_count": null,
   "metadata": {
    "collapsed": true
   },
   "outputs": [],
   "source": []
  }
 ],
 "metadata": {
  "kernelspec": {
   "display_name": "Python 3",
   "language": "python",
   "name": "python3"
  },
  "language_info": {
   "codemirror_mode": {
    "name": "ipython",
    "version": 3
   },
   "file_extension": ".py",
   "mimetype": "text/x-python",
   "name": "python",
   "nbconvert_exporter": "python",
   "pygments_lexer": "ipython3",
   "version": "3.6.3"
  }
 },
 "nbformat": 4,
 "nbformat_minor": 2
}
